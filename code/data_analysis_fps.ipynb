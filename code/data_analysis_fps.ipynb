{
 "cells": [
  {
   "cell_type": "markdown",
   "metadata": {},
   "source": [
    "# Main Data Analysis\n",
    "\n",
    "## Processing Steps\n",
    "- Fast Fourier transformation for each voxel masked by the previously obtained gray matter mask (see Preprocessing_fps.ipynb)\n",
    "- Convert amplitude of the frequency of the face bursts into a z-score\n",
    "    - Interpreted as SNR\n",
    "    - Formula: $SNR = \\frac{(A_S - \\mu_N)}{\\sigma_N}$\n",
    "    - $A_S$: Amplitude of the face stimulation frequency\n",
    "    - $\\mu_N$: Mean of 40 neighboring frequency bins (binwidth=0.0025Hz, 20 on each side)\n",
    "    - $\\sigma_N$: Standard deviation of the amplitude of 40 neighboring frequencies\n",
    "- Use phase values to determine the onset of activation/deactivation\n",
    "    - phase value of 0: Maximum BOLD response at the time the pictures were presented\n",
    "    - positive phase value: Increasing BOLD response after the onset of faces\n",
    "    - negative phase value: Decreasing BOLD response after the onset of faces\n",
    "- Plot histogram of phase values of voxels with z-score>3 and positive phase value\n",
    "    - "
   ]
  },
  {
   "cell_type": "markdown",
   "metadata": {},
   "source": [
    "## Illustration of the fast Fourier transform\n",
    "First, we import needed packages."
   ]
  },
  {
   "cell_type": "code",
   "execution_count": 1,
   "metadata": {},
   "outputs": [],
   "source": [
    "import numpy as np\n",
    "import matplotlib.pyplot as plt"
   ]
  },
  {
   "cell_type": "markdown",
   "metadata": {},
   "source": [
    "For illustration purposes we make an array of values following a sine function:"
   ]
  },
  {
   "cell_type": "code",
   "execution_count": 2,
   "metadata": {},
   "outputs": [],
   "source": [
    "sine_array = np.sin(np.arange(0,20,0.1))"
   ]
  },
  {
   "cell_type": "markdown",
   "metadata": {},
   "source": [
    "Next, we do a fast Fourier Transform on the `sine_array` using the `fft` function in `numpy`. The function has another array as output that we call `fourier`.\n",
    "\n",
    "The `fourier` array contains the output of the transform with a real and an imaginary part.\n",
    "\n",
    "Note in the plot that the array is mirrored."
   ]
  },
  {
   "cell_type": "code",
   "execution_count": 3,
   "metadata": {},
   "outputs": [
    {
     "name": "stderr",
     "output_type": "stream",
     "text": [
      "/opt/miniconda-latest/envs/neuro/lib/python3.6/site-packages/numpy/core/numeric.py:538: ComplexWarning: Casting complex values to real discards the imaginary part\n",
      "  return array(a, dtype, copy=False, order=order)\n"
     ]
    },
    {
     "data": {
      "text/plain": [
       "[<matplotlib.lines.Line2D at 0x7efe1a2e2160>]"
      ]
     },
     "execution_count": 3,
     "metadata": {},
     "output_type": "execute_result"
    },
    {
     "data": {
      "image/png": "[encoded data removed]",
      "text/plain": [
       "<Figure size 432x288 with 1 Axes>"
      ]
     },
     "metadata": {
      "needs_background": "light"
     },
     "output_type": "display_data"
    }
   ],
   "source": [
    "fourier = np.fft.fft(sine_array)\n",
    "plt.plot(fourier)"
   ]
  },
  {
   "cell_type": "markdown",
   "metadata": {},
   "source": [
    "As the output of the `fft` is mirrored, we only need the first half. For this reason we compute `N`, a variable that determines half the length of the `fourier` array."
   ]
  },
  {
   "cell_type": "code",
   "execution_count": 4,
   "metadata": {},
   "outputs": [],
   "source": [
    "N = int(len(fourier)/2+1)"
   ]
  },
  {
   "cell_type": "markdown",
   "metadata": {},
   "source": [
    "To obtain the amplitude values, we have to compute the absolute values of the first half of the `fourier` array."
   ]
  },
  {
   "cell_type": "code",
   "execution_count": 5,
   "metadata": {},
   "outputs": [
    {
     "name": "stdout",
     "output_type": "stream",
     "text": [
      "101\n"
     ]
    },
    {
     "data": {
      "text/plain": [
       "93.21311750238416"
      ]
     },
     "execution_count": 5,
     "metadata": {},
     "output_type": "execute_result"
    },
    {
     "data": {
      "image/png": "[encoded data removed]",
      "text/plain": [
       "<Figure size 432x288 with 1 Axes>"
      ]
     },
     "metadata": {
      "needs_background": "light"
     },
     "output_type": "display_data"
    }
   ],
   "source": [
    "amplitude = (abs(fourier[:N]))\n",
    "plt.plot(amplitude)\n",
    "print(len(amplitude))\n",
    "plt.show\n",
    "plt.hist(amplitude)\n",
    "max(amplitude)"
   ]
  },
  {
   "cell_type": "markdown",
   "metadata": {},
   "source": [
    "To determine the phase of the signal, we have to determine the angle of the first half of the `fourier` array."
   ]
  },
  {
   "cell_type": "code",
   "execution_count": 6,
   "metadata": {},
   "outputs": [
    {
     "data": {
      "text/plain": [
       "[<matplotlib.lines.Line2D at 0x7efe1813c0b8>]"
      ]
     },
     "execution_count": 6,
     "metadata": {},
     "output_type": "execute_result"
    },
    {
     "data": {
      "image/png": "[encoded data removed]",
      "text/plain": [
       "<Figure size 432x288 with 1 Axes>"
      ]
     },
     "metadata": {
      "needs_background": "light"
     },
     "output_type": "display_data"
    }
   ],
   "source": [
    "phase = np.angle(fourier[:N])\n",
    "plt.plot(phase)"
   ]
  },
  {
   "cell_type": "markdown",
   "metadata": {},
   "source": [
    "`amplitude` and `phase` should have the same length."
   ]
  },
  {
   "cell_type": "code",
   "execution_count": 7,
   "metadata": {},
   "outputs": [
    {
     "name": "stdout",
     "output_type": "stream",
     "text": [
      "101\n",
      "101\n"
     ]
    },
    {
     "data": {
      "text/plain": [
       "True"
      ]
     },
     "execution_count": 7,
     "metadata": {},
     "output_type": "execute_result"
    }
   ],
   "source": [
    "print(len(amplitude))\n",
    "print(len(phase))\n",
    "len(amplitude)==len(phase)"
   ]
  },
  {
   "cell_type": "markdown",
   "metadata": {},
   "source": [
    "`fft` automatically gives as many data points as the array that we fed into the function. To find out which data point refers to which frequency, we have to use `fftfreq`. This function takes as arguments the window length, so for how long we measured (how many data points we obtained), and the sample spacing `d`, which will later be the TR of the scanner. For illustration purposes, we will change it `d = 0.1`, as this was the sample spacing in our illustration data."
   ]
  },
  {
   "cell_type": "code",
   "execution_count": 8,
   "metadata": {},
   "outputs": [
    {
     "data": {
      "text/plain": [
       "array([ 0.  ,  0.05,  0.1 ,  0.15,  0.2 ,  0.25,  0.3 ,  0.35,  0.4 ,\n",
       "        0.45,  0.5 ,  0.55,  0.6 ,  0.65,  0.7 ,  0.75,  0.8 ,  0.85,\n",
       "        0.9 ,  0.95,  1.  ,  1.05,  1.1 ,  1.15,  1.2 ,  1.25,  1.3 ,\n",
       "        1.35,  1.4 ,  1.45,  1.5 ,  1.55,  1.6 ,  1.65,  1.7 ,  1.75,\n",
       "        1.8 ,  1.85,  1.9 ,  1.95,  2.  ,  2.05,  2.1 ,  2.15,  2.2 ,\n",
       "        2.25,  2.3 ,  2.35,  2.4 ,  2.45,  2.5 ,  2.55,  2.6 ,  2.65,\n",
       "        2.7 ,  2.75,  2.8 ,  2.85,  2.9 ,  2.95,  3.  ,  3.05,  3.1 ,\n",
       "        3.15,  3.2 ,  3.25,  3.3 ,  3.35,  3.4 ,  3.45,  3.5 ,  3.55,\n",
       "        3.6 ,  3.65,  3.7 ,  3.75,  3.8 ,  3.85,  3.9 ,  3.95,  4.  ,\n",
       "        4.05,  4.1 ,  4.15,  4.2 ,  4.25,  4.3 ,  4.35,  4.4 ,  4.45,\n",
       "        4.5 ,  4.55,  4.6 ,  4.65,  4.7 ,  4.75,  4.8 ,  4.85,  4.9 ,\n",
       "        4.95, -5.  , -4.95, -4.9 , -4.85, -4.8 , -4.75, -4.7 , -4.65,\n",
       "       -4.6 , -4.55, -4.5 , -4.45, -4.4 , -4.35, -4.3 , -4.25, -4.2 ,\n",
       "       -4.15, -4.1 , -4.05, -4.  , -3.95, -3.9 , -3.85, -3.8 , -3.75,\n",
       "       -3.7 , -3.65, -3.6 , -3.55, -3.5 , -3.45, -3.4 , -3.35, -3.3 ,\n",
       "       -3.25, -3.2 , -3.15, -3.1 , -3.05, -3.  , -2.95, -2.9 , -2.85,\n",
       "       -2.8 , -2.75, -2.7 , -2.65, -2.6 , -2.55, -2.5 , -2.45, -2.4 ,\n",
       "       -2.35, -2.3 , -2.25, -2.2 , -2.15, -2.1 , -2.05, -2.  , -1.95,\n",
       "       -1.9 , -1.85, -1.8 , -1.75, -1.7 , -1.65, -1.6 , -1.55, -1.5 ,\n",
       "       -1.45, -1.4 , -1.35, -1.3 , -1.25, -1.2 , -1.15, -1.1 , -1.05,\n",
       "       -1.  , -0.95, -0.9 , -0.85, -0.8 , -0.75, -0.7 , -0.65, -0.6 ,\n",
       "       -0.55, -0.5 , -0.45, -0.4 , -0.35, -0.3 , -0.25, -0.2 , -0.15,\n",
       "       -0.1 , -0.05])"
      ]
     },
     "execution_count": 8,
     "metadata": {},
     "output_type": "execute_result"
    }
   ],
   "source": [
    "np.fft.fftfreq(sine_array.size, d = 0.1)"
   ]
  },
  {
   "cell_type": "markdown",
   "metadata": {},
   "source": [
    "## Data Analysis\n",
    "\n",
    "Now that we know how the fast Fourier transform works in Python, we can start with our data analysis.\n",
    "\n",
    "First, we need to import required packages."
   ]
  },
  {
   "cell_type": "code",
   "execution_count": 9,
   "metadata": {},
   "outputs": [
    {
     "name": "stderr",
     "output_type": "stream",
     "text": [
      "/opt/miniconda-latest/envs/neuro/lib/python3.6/site-packages/duecredit/utils.py:32: PendingDeprecationWarning: dist() and linux_distribution() functions are deprecated in Python 3.5\n",
      "  and platform.linux_distribution()[0] == 'debian' \\\n"
     ]
    }
   ],
   "source": [
    "import numpy as np\n",
    "import matplotlib.pyplot as plt\n",
    "from nilearn.input_data import NiftiMasker\n",
    "from nipype import Node, MapNode, Workflow, SelectFiles, Function"
   ]
  },
  {
   "cell_type": "markdown",
   "metadata": {},
   "source": [
    "We are going to set up the data analysis as a nipype workflow, similar to how we did our preprocessing."
   ]
  },
  {
   "cell_type": "code",
   "execution_count": 10,
   "metadata": {},
   "outputs": [],
   "source": [
    "analysis = Workflow(name='work_analysis',\n",
    "                    base_dir='/home/neuro/fps/fps_bids/derivatives/')"
   ]
  },
  {
   "cell_type": "markdown",
   "metadata": {},
   "source": [
    "We again have to build a template so we can access the needed files and iterate through the participants. We also set up the node `sf`, that we can use to access the files we need."
   ]
  },
  {
   "cell_type": "code",
   "execution_count": 11,
   "metadata": {},
   "outputs": [],
   "source": [
    "templates = {'detr':\n",
    "             'derivatives/work_preprocessing/'\n",
    "             '_subject_id_{subject_id}/detrend/detrend.nii.gz',\n",
    "            }\n",
    "sf = Node(SelectFiles(templates,\n",
    "                      base_directory='/home/neuro/fps/fps_bids/',\n",
    "                      sort_filelist=True),\n",
    "          name='selectfiles')\n",
    "sf.inputs.task_id='fps'"
   ]
  },
  {
   "cell_type": "code",
   "execution_count": 12,
   "metadata": {},
   "outputs": [],
   "source": [
    "subject_list = ['01','02']\n",
    "sf.iterables = [('subject_id', subject_list)]"
   ]
  },
  {
   "cell_type": "markdown",
   "metadata": {},
   "source": [
    "For the fast Fourier transform we have to build our own custom function.\n",
    "\n",
    "The `masker` transforms our preprocessed NIfTI file into a two dimensional array that we call `image_array`. This array has the dimensions `(270, 44592)`, which means that there are 270 images (each one functional image in the time series) with 44592 voxels each.\n",
    "\n",
    "We need to compute the fft for every voxel over time. For this, we transpose the array, so that each list in our new array `image_array_t` now contains voxel intensity over time for one voxel each (before, each list in the array contained the intensity of *every* voxel for *one point in time*).\n",
    "\n",
    "Before we compute the fft, we first convert the intensity values to percentage of BOLD signal change by dividing all values by the mean intensity for that voxel and store these values in the array `image_array_perc`.\n",
    "\n",
    "Next, we do the fast Fourier transform as illustrated above, for every voxel over time. We now use the `fftfreq` function to determine on what position our stimulation frequency lies in the `fourier` array. Or, to put it differently, we want to find out the index of the amplitude of the stimulation frequency.\n",
    "\n",
    "Now we compute the mean and the standard deviation of the 40 neighboring bins. We use the formula from above to compute the SNR/z-score: $SNR = \\frac{(A_S - \\mu_N)}{\\sigma_N}$\n",
    "\n",
    "An SNR map with z-scores above 3 is then computed."
   ]
  },
  {
   "cell_type": "code",
   "execution_count": 14,
   "metadata": {},
   "outputs": [
    {
     "name": "stderr",
     "output_type": "stream",
     "text": [
      "/opt/miniconda-latest/envs/neuro/lib/python3.6/site-packages/ipykernel_launcher.py:11: RuntimeWarning: divide by zero encountered in true_divide\n",
      "  # This is added back by InteractiveShellApp.init_path()\n",
      "/opt/miniconda-latest/envs/neuro/lib/python3.6/site-packages/ipykernel_launcher.py:11: RuntimeWarning: invalid value encountered in true_divide\n",
      "  # This is added back by InteractiveShellApp.init_path()\n"
     ]
    },
    {
     "name": "stdout",
     "output_type": "stream",
     "text": [
      "[1.06467232 0.60093739 0.02550244 ... 0.         0.         0.        ]\n"
     ]
    },
    {
     "data": {
      "text/plain": [
       "<nibabel.nifti1.Nifti1Image at 0x7efe11c23d30>"
      ]
     },
     "execution_count": 14,
     "metadata": {},
     "output_type": "execute_result"
    },
    {
     "data": {
      "image/png": "[encoded data removed]",
      "text/plain": [
       "<Figure size 576x576 with 3 Axes>"
      ]
     },
     "metadata": {
      "needs_background": "light"
     },
     "output_type": "display_data"
    }
   ],
   "source": [
    "def fft_convert(image, stim_freq):\n",
    "    from nilearn.input_data import NiftiMasker #to import the masked NIfTI file as an array\n",
    "    import numpy as np\n",
    "    import scipy\n",
    "    import nibabel as nib\n",
    "    masker = NiftiMasker(standardize=True)\n",
    "    image_array = masker.fit_transform(image) #import the NIfTI\n",
    "    image_array_t = image_array.T #transpose the array\n",
    "    mean_intensity = image_array_t.mean(axis=1) #determine the mean intensity of every voxel\n",
    "    #divide the intensity values by the mean intensity in that voxel:\n",
    "    image_array_perc = image_array_t / mean_intensity[:,None] \n",
    "    \n",
    "    SNR_map = np.ones(44592)\n",
    "    \n",
    "    for i in range(len(image_array_perc)):\n",
    "        fourier = np.fft.fft(image_array_perc[i]) #the Fourier transform\n",
    "        N = int(len(fourier)/2+1) #determine half the length of the array\n",
    "        amplitude = (abs(fourier[:N])) #get the amplitude values\n",
    "        phase = np.angle(fourier[:N]) #get the phase values\n",
    "        freq_mir = np.fft.fftfreq(n = 270, d=1.03) #the frequency values, also mirrored\n",
    "        freq = freq_mir[:N] #the frequency values without the mirrored part\n",
    "        frate = 1/1.03\n",
    "        freq_in_hertz = abs(freq * frate)\n",
    "        #print(freq_in_hertz)\n",
    "        \n",
    "        #determine the index of the stimulation frequency:\n",
    "        index = min(range(len(freq_in_hertz)), key=lambda i: abs(freq_in_hertz[i]-stim_freq))\n",
    "        \n",
    "        #use that index to get the 40 neighboring bins:\n",
    "        lower1 = index-20\n",
    "        lower2 = index+1\n",
    "        upper = index+21\n",
    "        mu_values = amplitude[lower1:index]\n",
    "        mu_values = np.append(mu_values, amplitude[lower2:upper])\n",
    "        mu = np.mean(mu_values) #calculate mu\n",
    "        sigma = np.std(mu_values) #calculate sigma\n",
    "        As = amplitude[index] #calculate As\n",
    "        SNR = (As-mu)/sigma #calculate the signal to noise ratio\n",
    "        phase_value = phase[index] #phase value at stimulation frequency\n",
    "        \n",
    "        #compute SNR map for values with z>3.0:\n",
    "        if SNR > 0.0:\n",
    "            SNR_map[i]*=SNR\n",
    "        else:\n",
    "            SNR_map[i]*=0.\n",
    "            \n",
    "    out_file = masker.inverse_transform(SNR_map)\n",
    "    nib.save(out_file,'SNR_test_tresh_3.nii') #!!!change path to /fps_bids/derivatives/work_data_analysis/\n",
    "    %matplotlib inline\n",
    "    out_file.orthoview()\n",
    "    print(SNR_map)\n",
    "    #print(mu_values)\n",
    "    #print(mu)\n",
    "    #print(sigma)\n",
    "    #print(SNR)\n",
    "    #print(image_array_t.shape)\n",
    "    \n",
    "    #hist = np.histogram(amplitude, bins = 41, range=(0.061, 0.161))\n",
    "    #plt.plot(amplitude)\n",
    "    #plt.show\n",
    "    #plt.hist(amplitude, bins = 41, range=(0.061, 0.161))\n",
    "    #plt.show\n",
    "    #print(image_array)\n",
    "    #out_file = masker.inverse_transform()\n",
    "    return(out_file)\n",
    "\n",
    "fft_convert('/home/neuro/fps/fps_bids/derivatives/work_preprocessing/_subject_id_01/detrend/detrend.nii.gz',0.111)"
   ]
  },
  {
   "cell_type": "code",
   "execution_count": null,
   "metadata": {},
   "outputs": [],
   "source": [
    "import scipy.stats as st\n",
    "1-st.norm.cdf(3.)"
   ]
  },
  {
   "cell_type": "code",
   "execution_count": null,
   "metadata": {},
   "outputs": [],
   "source": [
    "A = np.array([1.,2.,3.,4.,5.,6.])\n",
    "\n",
    "print(A[0:2],A[4:5])\n",
    "np.mean(A[0:2],A[4:5])\n",
    "print(np.mean(A[0]))\n",
    "print(type(A))"
   ]
  },
  {
   "cell_type": "code",
   "execution_count": null,
   "metadata": {},
   "outputs": [],
   "source": [
    "270/1.03"
   ]
  },
  {
   "cell_type": "code",
   "execution_count": null,
   "metadata": {},
   "outputs": [],
   "source": [
    "270*1.5"
   ]
  },
  {
   "cell_type": "code",
   "execution_count": null,
   "metadata": {},
   "outputs": [],
   "source": []
  }
 ],
 "metadata": {
  "kernelspec": {
   "display_name": "Python 3",
   "language": "python",
   "name": "python3"
  },
  "language_info": {
   "codemirror_mode": {
    "name": "ipython",
    "version": 3
   },
   "file_extension": ".py",
   "mimetype": "text/x-python",
   "name": "python",
   "nbconvert_exporter": "python",
   "pygments_lexer": "ipython3",
   "version": "3.6.7"
  }
 },
 "nbformat": 4,
 "nbformat_minor": 2
}
