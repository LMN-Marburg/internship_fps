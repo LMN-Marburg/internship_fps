{
 "cells": [
  {
   "cell_type": "markdown",
   "metadata": {},
   "source": [
    "This is a preprocessing workflow including :  \n",
    "1. Motion-correction  \n",
    "2. Artifact Detection  \n",
    "3. Coregistration from functional to anatomical pictures in two steps  \n",
    "4. Smoothing  \n",
    "5. Grey-matter masking  \n",
    "6. and Detrending  \n",
    "\n",
    "First, we import all the necessary modules:"
   ]
  },
  {
   "cell_type": "code",
   "execution_count": 2,
   "metadata": {},
   "outputs": [],
   "source": [
    "from nipype import Node, MapNode, Workflow, SelectFiles, Function\n",
    "from nipype.interfaces.fsl import MCFLIRT, Smooth, FLIRT, ApplyMask, ConvertXFM, ImageMaths\n",
    "from nipype.algorithms.rapidart import ArtifactDetect\n",
    "from nipype.algorithms.confounds import TSNR\n",
    "from bids import BIDSLayout\n",
    "import numpy as np\n",
    "import nibabel as nb\n",
    "import matplotlib.pyplot as plt\n",
    "from nilearn import image as nli"
   ]
  },
  {
   "cell_type": "markdown",
   "metadata": {},
   "source": [
    "This is just to get an idea of the data structure, while setting up the workflow (look up how files are named in BIDS)"
   ]
  },
  {
   "cell_type": "code",
   "execution_count": 5,
   "metadata": {},
   "outputs": [
    {
     "data": {
      "text/plain": [
       "BIDS Layout: .../home/neuro/fps/fps_bids | Subjects: 2 | Sessions: 0 | Runs: 0"
      ]
     },
     "execution_count": 5,
     "metadata": {},
     "output_type": "execute_result"
    }
   ],
   "source": [
    "layout = BIDSLayout('fps_bids/')\n",
    "layout"
   ]
  },
  {
   "cell_type": "code",
   "execution_count": 6,
   "metadata": {},
   "outputs": [
    {
     "data": {
      "text/plain": [
       "[<BIDSFile filename='sub-01/func/sub-01_task-fps_acq-mb_bold.json'>,\n",
       " <BIDSFile filename='sub-01/func/sub-01_task-fps_acq-mb_bold.nii.gz'>,\n",
       " <BIDSFile filename='sub-01/func/sub-01_task-fps_acq-wh_bold.json'>,\n",
       " <BIDSFile filename='sub-01/func/sub-01_task-fps_acq-wh_bold.nii.gz'>,\n",
       " <BIDSFile filename='sub-01/func/sub-01_task-fps_bold.json'>,\n",
       " <BIDSFile filename='sub-01/func/sub-01_task-fps_bold.nii.gz'>,\n",
       " <BIDSFile filename='sub-02/func/sub-02_task-fps_acq-mb_bold.json'>,\n",
       " <BIDSFile filename='sub-02/func/sub-02_task-fps_acq-mb_bold.nii.gz'>,\n",
       " <BIDSFile filename='sub-02/func/sub-02_task-fps_acq-wh_bold.json'>,\n",
       " <BIDSFile filename='sub-02/func/sub-02_task-fps_acq-wh_bold.nii.gz'>,\n",
       " <BIDSFile filename='sub-02/func/sub-02_task-fps_bold.json'>,\n",
       " <BIDSFile filename='sub-02/func/sub-02_task-fps_bold.nii.gz'>,\n",
       " <BIDSFile filename='task-fps_acq-mb_bold.json'>,\n",
       " <BIDSFile filename='task-fps_acq-wh_bold.json'>,\n",
       " <BIDSFile filename='task-fps_bold.json'>]"
      ]
     },
     "execution_count": 6,
     "metadata": {},
     "output_type": "execute_result"
    }
   ],
   "source": [
    "layout.get(suffix = 'bold')"
   ]
  },
  {
   "cell_type": "markdown",
   "metadata": {},
   "source": [
    "Below we create and define our preprocessing workflow step by step(i.e. the connections between the individual nodes)."
   ]
  },
  {
   "cell_type": "code",
   "execution_count": 7,
   "metadata": {},
   "outputs": [],
   "source": [
    "func = layout.get(task='fps', extensions='.nii.gz', return_type='file')[0]\n",
    "resolution = np.array(nb.load(func).header.get_zooms()[:3])"
   ]
  },
  {
   "cell_type": "markdown",
   "metadata": {},
   "source": [
    "This creates the workflow :"
   ]
  },
  {
   "cell_type": "code",
   "execution_count": 8,
   "metadata": {},
   "outputs": [],
   "source": [
    "preprocessing = Workflow(name='work_preprocessing', base_dir='/home/neuro/fps/fps_bids/derivatives/')"
   ]
  },
  {
   "cell_type": "markdown",
   "metadata": {},
   "source": [
    "We created a Node which can select files using dictionaries, where the key can later be used to select input for other Nodes e.g. the functional files for the motion correction, see the first connection of Nodes below:"
   ]
  },
  {
   "cell_type": "code",
   "execution_count": 9,
   "metadata": {},
   "outputs": [],
   "source": [
    "# String template with {}-based strings\n",
    "templates = {'anat': 'sub-{subject_id}/anat/'\n",
    "                     'sub-{subject_id}_T1w.nii.gz',\n",
    "             'func': 'sub-{subject_id}/func/'\n",
    "                     'sub-{subject_id}_task-{task_id}_bold.nii.gz',\n",
    "             'wh':   'sub-{subject_id}/func/'\n",
    "                     'sub-{subject_id}_task-{task_id}_acq-wh_bold.nii.gz',\n",
    "             'mb':   'sub-{subject_id}/func/'\n",
    "                     'sub-{subject_id}_task-{task_id}_acq-mb_bold.nii.gz',\n",
    "             'brain':'derivatives/mindboggle/freesurfer_subjects/'\n",
    "                     'sub-{subject_id}/mri/brain.mgz',\n",
    "             'ribbon_lh':'derivatives/mindboggle/freesurfer_subjects/'\n",
    "                     'sub-{subject_id}/mri/lh.ribbon.mgz',\n",
    "             'ribbon_rh':'derivatives/mindboggle/freesurfer_subjects/'\n",
    "                     'sub-{subject_id}/mri/rh.ribbon.mgz',\n",
    "            }\n",
    "\n",
    "# Create SelectFiles node\n",
    "sf = Node(SelectFiles(templates,\n",
    "                      base_directory='/home/neuro/fps/fps_bids/',\n",
    "                      sort_filelist=True),\n",
    "          name='selectfiles')\n",
    "sf.inputs.task_id='fps'"
   ]
  },
  {
   "cell_type": "markdown",
   "metadata": {},
   "source": [
    "Here, we can specify which of the subjects we want to run through this preprocessing pipeline, iterating over the subject Id's in the subject_list."
   ]
  },
  {
   "cell_type": "code",
   "execution_count": 10,
   "metadata": {},
   "outputs": [],
   "source": [
    "subject_list = ['01','02']\n",
    "sf.iterables = [('subject_id', subject_list)]"
   ]
  },
  {
   "cell_type": "markdown",
   "metadata": {},
   "source": [
    "Now we are defining the Nodes. These Nodes represent the different steps of our preprocessing, respectively. Later our workflow will be a directed acyclic graph (DAG) consisting of the interconnected Nodes."
   ]
  },
  {
   "cell_type": "markdown",
   "metadata": {},
   "source": [
    "Node for motion correction. We  use the mcflirt function from the interface fsl. The outputs of the function are motion corrected time series, a mean volume(first parameter of the mcflirt function) and a list of motion parameters(second parameter of the mcflirt function)"
   ]
  },
  {
   "cell_type": "code",
   "execution_count": 11,
   "metadata": {},
   "outputs": [],
   "source": [
    "mo_correct = Node(MCFLIRT(mean_vol=True,\n",
    "                       save_plots=True,\n",
    "                         ),\n",
    "               name=\"mo_correct\")"
   ]
  },
  {
   "cell_type": "markdown",
   "metadata": {},
   "source": [
    "This is a good example of how to use the select file Node: when connecting this Node to another you can specify(through the keys) the Input given into the other Node. In this example the motion correction Node gets input from the sf Node which is specified by the key 'func', meaning all the functional images of the respective subject."
   ]
  },
  {
   "cell_type": "code",
   "execution_count": 12,
   "metadata": {},
   "outputs": [],
   "source": [
    "preprocessing.connect([(sf, mo_correct,[('func', 'in_file')])])"
   ]
  },
  {
   "cell_type": "code",
   "execution_count": 13,
   "metadata": {},
   "outputs": [],
   "source": [
    "#preprocessing.write_graph(\"workflow_graph.dot\")\n",
    "#from IPython.display import Image\n",
    "#Image(filename=\"/derivatives/preprocessing/workflow_graph.png\")"
   ]
  },
  {
   "cell_type": "code",
   "execution_count": 14,
   "metadata": {},
   "outputs": [
    {
     "data": {
      "image/png": "[encoded data removed]",
      "text/plain": [
       "<Figure size 1080x360 with 2 Axes>"
      ]
     },
     "metadata": {
      "needs_background": "light"
     },
     "output_type": "display_data"
    }
   ],
   "source": [
    "%matplotlib inline\n",
    "# Plot the motion paramters\n",
    "par = np.loadtxt('/home/neuro/fps/fps_bids/derivatives/work_preprocessing/_subject_id_01/mo_correct/sub-01_task-fps_bold_mcf.nii.gz.par')\n",
    "fig, axes = plt.subplots(2, 1, figsize=(15, 5))\n",
    "axes[0].set_ylabel('rotation (radians)')\n",
    "axes[0].plot(par[0:, :3])\n",
    "axes[1].plot(par[0:, 3:])\n",
    "axes[1].set_xlabel('time (TR)')\n",
    "axes[1].set_ylabel('translation (mm)');"
   ]
  },
  {
   "cell_type": "markdown",
   "metadata": {},
   "source": [
    "The next step in our pipeline is the artifact correction, the respective Node is defined as follows:"
   ]
  },
  {
   "cell_type": "code",
   "execution_count": 15,
   "metadata": {},
   "outputs": [],
   "source": [
    "arti_correct = Node(ArtifactDetect(norm_threshold=2,\n",
    "                          zintensity_threshold=3,\n",
    "                          mask_type='spm_global',\n",
    "                          parameter_source='FSL',\n",
    "                          use_differences=[True, False],\n",
    "                          plot_type='svg'), \n",
    "                    name=\"arti_correct\")"
   ]
  },
  {
   "cell_type": "markdown",
   "metadata": {},
   "source": [
    "For more information on the parameters of specific functions you can check like this: "
   ]
  },
  {
   "cell_type": "code",
   "execution_count": 4,
   "metadata": {},
   "outputs": [
    {
     "name": "stdout",
     "output_type": "stream",
     "text": [
      "Help on class ArtifactDetect in module nipype.algorithms.rapidart:\n",
      "\n",
      "class ArtifactDetect(nipype.interfaces.base.core.BaseInterface)\n",
      " |  Detects outliers in a functional imaging series\n",
      " |  \n",
      " |  Uses intensity and motion parameters to infer outliers. If `use_norm` is\n",
      " |  True, it computes the movement of the center of each face a cuboid centered\n",
      " |  around the head and returns the maximal movement across the centers. If you\n",
      " |  wish to use individual thresholds instead, import `Undefined` from\n",
      " |  `nipype.interfaces.base` and set `....inputs.use_norm = Undefined`\n",
      " |  \n",
      " |  \n",
      " |  Examples\n",
      " |  --------\n",
      " |  \n",
      " |  >>> ad = ArtifactDetect()\n",
      " |  >>> ad.inputs.realigned_files = 'functional.nii'\n",
      " |  >>> ad.inputs.realignment_parameters = 'functional.par'\n",
      " |  >>> ad.inputs.parameter_source = 'FSL'\n",
      " |  >>> ad.inputs.norm_threshold = 1\n",
      " |  >>> ad.inputs.use_differences = [True, False]\n",
      " |  >>> ad.inputs.zintensity_threshold = 3\n",
      " |  >>> ad.run()  # doctest: +SKIP\n",
      " |  \n",
      " |  Method resolution order:\n",
      " |      ArtifactDetect\n",
      " |      nipype.interfaces.base.core.BaseInterface\n",
      " |      nipype.interfaces.base.core.Interface\n",
      " |      builtins.object\n",
      " |  \n",
      " |  Methods defined here:\n",
      " |  \n",
      " |  __init__(self, **inputs)\n",
      " |      Subclasses must implement __init__\n",
      " |  \n",
      " |  ----------------------------------------------------------------------\n",
      " |  Data and other attributes defined here:\n",
      " |  \n",
      " |  input_spec = <class 'nipype.algorithms.rapidart.ArtifactDetectInputSpe...\n",
      " |      Create a subclass with strict traits.\n",
      " |      \n",
      " |      This is used in 90% of the cases.\n",
      " |  \n",
      " |  output_spec = <class 'nipype.algorithms.rapidart.ArtifactDetectOutputS...\n",
      " |      Create a subclass with strict traits.\n",
      " |      \n",
      " |      This is used in 90% of the cases.\n",
      " |  \n",
      " |  ----------------------------------------------------------------------\n",
      " |  Methods inherited from nipype.interfaces.base.core.BaseInterface:\n",
      " |  \n",
      " |  aggregate_outputs(self, runtime=None, needed_outputs=None)\n",
      " |      Collate expected outputs and check for existence\n",
      " |  \n",
      " |  load_inputs_from_json(self, json_file, overwrite=True)\n",
      " |      A convenient way to load pre-set inputs from a JSON file.\n",
      " |  \n",
      " |  run(self, cwd=None, ignore_exception=None, **inputs)\n",
      " |      Execute this interface.\n",
      " |      \n",
      " |      This interface will not raise an exception if runtime.returncode is\n",
      " |      non-zero.\n",
      " |      \n",
      " |      Parameters\n",
      " |      ----------\n",
      " |      \n",
      " |      cwd : specify a folder where the interface should be run\n",
      " |      inputs : allows the interface settings to be updated\n",
      " |      \n",
      " |      Returns\n",
      " |      -------\n",
      " |      results :  an InterfaceResult object containing a copy of the instance\n",
      " |      that was executed, provenance information and, if successful, results\n",
      " |  \n",
      " |  save_inputs_to_json(self, json_file)\n",
      " |      A convenient way to save current inputs to a JSON file.\n",
      " |  \n",
      " |  ----------------------------------------------------------------------\n",
      " |  Data descriptors inherited from nipype.interfaces.base.core.BaseInterface:\n",
      " |  \n",
      " |  version\n",
      " |      interfaces should implement a version property\n",
      " |  \n",
      " |  ----------------------------------------------------------------------\n",
      " |  Data and other attributes inherited from nipype.interfaces.base.core.BaseInterface:\n",
      " |  \n",
      " |  references_ = []\n",
      " |  \n",
      " |  resource_monitor = True\n",
      " |  \n",
      " |  ----------------------------------------------------------------------\n",
      " |  Class methods inherited from nipype.interfaces.base.core.Interface:\n",
      " |  \n",
      " |  help(returnhelp=False) from builtins.type\n",
      " |      Prints class help\n",
      " |  \n",
      " |  ----------------------------------------------------------------------\n",
      " |  Data descriptors inherited from nipype.interfaces.base.core.Interface:\n",
      " |  \n",
      " |  __dict__\n",
      " |      dictionary for instance variables (if defined)\n",
      " |  \n",
      " |  __weakref__\n",
      " |      list of weak references to the object (if defined)\n",
      " |  \n",
      " |  always_run\n",
      " |      Should the interface be always run even if the inputs were not changed?\n",
      " |      Only applies to interfaces being run within a workflow context.\n",
      " |  \n",
      " |  can_resume\n",
      " |      Defines if the interface can reuse partial results after interruption.\n",
      " |      Only applies to interfaces being run within a workflow context.\n",
      "\n"
     ]
    }
   ],
   "source": [
    "ArtifactDetect.help()"
   ]
  },
  {
   "cell_type": "markdown",
   "metadata": {},
   "source": [
    "As the function ArtifactDetect needs a list of realignment parameters and a 4D time series, we connect this Node to the mo_correction Node such that the output of the mo_correction Node flows into the arti_correct Node:"
   ]
  },
  {
   "cell_type": "code",
   "execution_count": 16,
   "metadata": {},
   "outputs": [],
   "source": [
    "preprocessing.connect([(mo_correct, arti_correct, [('out_file', 'realigned_files'),\n",
    "                                 ('par_file', 'realignment_parameters')])\n",
    "                 ])"
   ]
  },
  {
   "cell_type": "markdown",
   "metadata": {},
   "source": [
    "Now that we are done with the artifact correction we can do the coregistration. As the first step we will map our functional whole-head pictures to the anatomical, already skullstripped picture.\n"
   ]
  },
  {
   "cell_type": "markdown",
   "metadata": {},
   "source": [
    "In order for this to happen, we first need to compute the mean of our functional whole-head pictures. The new function defined below does that for us. "
   ]
  },
  {
   "cell_type": "code",
   "execution_count": 18,
   "metadata": {},
   "outputs": [],
   "source": [
    "def compute_mean_image(image):\n",
    "\n",
    "    from nilearn.image import mean_img\n",
    "    from os.path import basename, abspath\n",
    "\n",
    "    m_img = mean_img(image)\n",
    "    mean_image_wh = abspath(basename(image).replace('.nii.gz', '_mean.nii'))\n",
    "    m_img.to_filename(mean_image_wh)\n",
    "\n",
    "    return mean_image_wh\n"
   ]
  },
  {
   "cell_type": "markdown",
   "metadata": {},
   "source": [
    "Now we need to create a Node, that executes the previously defined function. If this function is not included in any packages and we had to write the function ourselves, we can do so by just setting Function as the first parameter of the Node and then specify which functions to use within the parameters of the Function argument:"
   ]
  },
  {
   "cell_type": "code",
   "execution_count": 19,
   "metadata": {},
   "outputs": [],
   "source": [
    "compute_mean_wh = Node(Function(input_names=['image'],\n",
    "                                output_names=['mean_image'],\n",
    "                                function=compute_mean_image),\n",
    "                      name='compute_mean_wh')"
   ]
  },
  {
   "cell_type": "markdown",
   "metadata": {},
   "source": [
    "Additionally we need to define a function that converts the picture of the skullstripped brain (output of the mindboggle segmentation process) as we need 2 Nifti files to do the coregistration. The function we use to coregister is flirt from the fsl interface (see Nodes coreg_wh and coreg_slab below)"
   ]
  },
  {
   "cell_type": "code",
   "execution_count": 20,
   "metadata": {},
   "outputs": [],
   "source": [
    "def convert_mgh(image):\n",
    "\n",
    "    from nibabel import load, save, Nifti1Image\n",
    "    from os.path import basename, abspath\n",
    "\n",
    "    anat_img = load(image)\n",
    "    anat_convert = Nifti1Image(anat_img.get_data(), affine=anat_img.get_affine())\n",
    "\n",
    "    ant_image_nii = abspath(basename(image).replace('.mgz', '.nii'))\n",
    "\n",
    "    save(anat_convert, ant_image_nii)\n",
    "    \n",
    "    return ant_image_nii"
   ]
  },
  {
   "cell_type": "markdown",
   "metadata": {},
   "source": [
    "Again we need a Node to execute the function:"
   ]
  },
  {
   "cell_type": "code",
   "execution_count": 21,
   "metadata": {},
   "outputs": [],
   "source": [
    "convert_mgh = Node(Function(input_names=['image'],\n",
    "                                output_names=['ant_image_nii'],\n",
    "                                function=convert_mgh),\n",
    "                      name='convert_mgh')"
   ]
  },
  {
   "cell_type": "markdown",
   "metadata": {},
   "source": [
    "The coregistration Nodes using the flirt function from the fsl interface, as mentioned above. coreg_wh coregisters the functional wholehead mean file onto the anatomical image and coreg_slab coregisters the mean functional picture of the fmri measures (which do not contain the whole head) to the wholehead functional image. Both Nodes will return a coregistration matrix."
   ]
  },
  {
   "cell_type": "code",
   "execution_count": 17,
   "metadata": {},
   "outputs": [],
   "source": [
    "coreg_wh = Node(FLIRT(dof=6,\n",
    "                   output_type='NIFTI'),\n",
    "             name=\"coreg_wh\")"
   ]
  },
  {
   "cell_type": "code",
   "execution_count": 23,
   "metadata": {},
   "outputs": [],
   "source": [
    "coreg_slab = Node(FLIRT(dof=6,\n",
    "                   output_type='NIFTI'),\n",
    "             name=\"coreg_slab\")"
   ]
  },
  {
   "cell_type": "code",
   "execution_count": 22,
   "metadata": {},
   "outputs": [],
   "source": [
    "preprocessing.connect([(sf, convert_mgh, [('brain', 'image')]),\n",
    "                       (convert_mgh, coreg_wh, [('ant_image_nii', 'reference')]),\n",
    "                       (sf, compute_mean_wh, [('wh', 'image')]),\n",
    "                       (compute_mean_wh, coreg_wh, [('mean_image', 'in_file')])\n",
    "                      ])"
   ]
  },
  {
   "cell_type": "code",
   "execution_count": 24,
   "metadata": {},
   "outputs": [],
   "source": [
    "preprocessing.connect([(mo_correct, coreg_slab, [('mean_img', 'in_file')]),\n",
    "                       (compute_mean_wh, coreg_slab, [('mean_image', 'reference')])\n",
    "                      ])"
   ]
  },
  {
   "cell_type": "markdown",
   "metadata": {},
   "source": [
    "Before being able to apply the coregistration to the whole time series, we need to connect the 2 computed coregistration matrices:"
   ]
  },
  {
   "cell_type": "code",
   "execution_count": 25,
   "metadata": {},
   "outputs": [],
   "source": [
    "merge_trans = Node(ConvertXFM(concat_xfm=True), \n",
    "                  name='merge_trans')"
   ]
  },
  {
   "cell_type": "code",
   "execution_count": 26,
   "metadata": {},
   "outputs": [],
   "source": [
    "preprocessing.connect([(coreg_wh, merge_trans, [('out_matrix_file', 'in_file2')]),\n",
    "                       (coreg_slab, merge_trans, [('out_matrix_file', 'in_file')])\n",
    "                      ])"
   ]
  },
  {
   "cell_type": "markdown",
   "metadata": {},
   "source": [
    "Once the matrices are merged we use the applywarp Node to apply the coregistration warp functional images. This Node again takes the flirt function from the fsl interface with the coregistration matrix as an additional parameter. Check the help function again for more information on parameters!"
   ]
  },
  {
   "cell_type": "code",
   "execution_count": null,
   "metadata": {},
   "outputs": [],
   "source": [
    "# Specify the isometric voxel resolution you want after coregistration\n",
    "desired_voxel_iso = 3\n",
    "\n",
    "applywarp = Node(FLIRT(interp='spline',\n",
    "                       apply_isoxfm=desired_voxel_iso,\n",
    "                       output_type='NIFTI'),\n",
    "                 name=\"applywarp\")"
   ]
  },
  {
   "cell_type": "code",
   "execution_count": null,
   "metadata": {},
   "outputs": [],
   "source": [
    "preprocessing.connect([(mo_correct,applywarp,[('out_file','in_file')]),\n",
    "                       (merge_trans,applywarp,[('out_file','in_matrix_file')]),\n",
    "                       (convert_mgh,applywarp, [('ant_image_nii', 'reference')])\n",
    "                      ])"
   ]
  },
  {
   "cell_type": "markdown",
   "metadata": {},
   "source": [
    "We are done with the coregistration and have mapped our time series into the anatomical space successfully, next to come is the smoothing. As recommended by our supervisor we will use the susan_smooth workflow as a subworkflow of ours to do the smoothing. This subworkflow allows for masking while smoothing and thereby only smoothing the important parts."
   ]
  },
  {
   "cell_type": "code",
   "execution_count": null,
   "metadata": {},
   "outputs": [],
   "source": [
    "from nipype.workflows.fmri.fsl.preprocess import create_susan_smooth"
   ]
  },
  {
   "cell_type": "markdown",
   "metadata": {},
   "source": [
    "As done in the original paper, we will use a smoothing kernel with 3 mm full-width-half-maximum"
   ]
  },
  {
   "cell_type": "code",
   "execution_count": null,
   "metadata": {},
   "outputs": [],
   "source": [
    "susan = create_susan_smooth(name='susan')\n",
    "susan.inputs.inputnode.fwhm = 3"
   ]
  },
  {
   "cell_type": "markdown",
   "metadata": {},
   "source": [
    "As mentioned above the susan_smoothing allows for masking throughout the process. The mindboggle segmentation already gives us grey matter masks, so we dont have to worry about creating a mask. What we need to do though is convert the mask and also concatenate right and left hemisphere, as we only get grey matter mask for each hemisphere respectively. To do so we need to set up a function again to convert mgz files to Nifti (we defined this function already for the coregistration remember? but we'll leave the code here for visualization). "
   ]
  },
  {
   "cell_type": "code",
   "execution_count": null,
   "metadata": {},
   "outputs": [],
   "source": [
    "def convert_ribbon(image):\n",
    "\n",
    "    from nibabel import load, save, Nifti1Image\n",
    "    from os.path import basename, abspath\n",
    "\n",
    "    anat_img = load(image)\n",
    "    anat_convert = Nifti1Image(anat_img.get_data(), affine=anat_img.get_affine())\n",
    "\n",
    "    ant_image_nii = abspath(basename(image).replace('.mgz', '.nii'))\n",
    "\n",
    "    save(anat_convert, ant_image_nii)\n",
    "    \n",
    "    return ant_image_nii"
   ]
  },
  {
   "cell_type": "markdown",
   "metadata": {},
   "source": [
    "Now we create 2 Nodes (one for each hemisphere) and convert the masks into the Nifti format:"
   ]
  },
  {
   "cell_type": "code",
   "execution_count": null,
   "metadata": {},
   "outputs": [],
   "source": [
    "convert_ribbon_lh = Node(Function(input_names=['image'],\n",
    "                                output_names=['ribbon_lh'],\n",
    "                                function=convert_ribbon),\n",
    "                      name='convert_ribbon_lh')"
   ]
  },
  {
   "cell_type": "code",
   "execution_count": null,
   "metadata": {},
   "outputs": [],
   "source": [
    "convert_ribbon_rh = Node(Function(input_names=['image'],\n",
    "                                output_names=['ribbon_rh'],\n",
    "                                function=convert_ribbon),\n",
    "                      name='convert_ribbon_rh')"
   ]
  },
  {
   "cell_type": "code",
   "execution_count": null,
   "metadata": {},
   "outputs": [],
   "source": [
    "preprocessing.connect([(sf, convert_ribbon_lh,[('ribbon_lh','image')]),\n",
    "                       (sf, convert_ribbon_rh,[('ribbon_rh','image')]),\n",
    "                      ])"
   ]
  },
  {
   "cell_type": "markdown",
   "metadata": {},
   "source": [
    "After converting we concatenate the two hemispheres to get a mask for the whole brain:"
   ]
  },
  {
   "cell_type": "code",
   "execution_count": null,
   "metadata": {},
   "outputs": [],
   "source": [
    "concat_ribbon = MapNode(ImageMaths(op_string='-add'), iterfield=['in_file'],\n",
    "                       name='concat_ribbon')"
   ]
  },
  {
   "cell_type": "code",
   "execution_count": null,
   "metadata": {},
   "outputs": [],
   "source": [
    "preprocessing.connect([(convert_ribbon_lh, concat_ribbon,[('ribbon_lh','in_file')]),\n",
    "                       (convert_ribbon_rh, concat_ribbon,[('ribbon_rh','in_file2')]),\n",
    "                      ])"
   ]
  },
  {
   "cell_type": "markdown",
   "metadata": {},
   "source": [
    "As the grey matter mask does not have the same resolution as the functional pictures, we need to adjust this:"
   ]
  },
  {
   "cell_type": "code",
   "execution_count": null,
   "metadata": {},
   "outputs": [],
   "source": [
    "resample = Node(FLIRT(apply_isoxfm=desired_voxel_iso), \n",
    "                name='resample')"
   ]
  },
  {
   "cell_type": "code",
   "execution_count": null,
   "metadata": {},
   "outputs": [],
   "source": [
    "def get_file(files):\n",
    "    \n",
    "    return files[0]"
   ]
  },
  {
   "cell_type": "code",
   "execution_count": null,
   "metadata": {},
   "outputs": [],
   "source": [
    "preprocessing.connect([(concat_ribbon, resample, [(('out_file', get_file), 'in_file')]),\n",
    "                       (concat_ribbon, resample, [(('out_file', get_file), 'reference')]),\n",
    "                      ])"
   ]
  },
  {
   "cell_type": "markdown",
   "metadata": {},
   "source": [
    "Now everything is set and we can run the smoothing on the coregistered files with the converted, concatenated and resolution fitted grey matter mask:"
   ]
  },
  {
   "cell_type": "code",
   "execution_count": null,
   "metadata": {},
   "outputs": [],
   "source": [
    "preprocessing.connect([(applywarp,susan, [('out_file','inputnode.in_files')]),\n",
    "                       (resample, susan, [('out_file', 'inputnode.mask_file')])\n",
    "                      ])"
   ]
  },
  {
   "cell_type": "markdown",
   "metadata": {},
   "source": [
    "After smoothing we can now apply the (for the smoothing) already created grey matter mask with the ApplyMask function from the fsl interface"
   ]
  },
  {
   "cell_type": "code",
   "execution_count": null,
   "metadata": {},
   "outputs": [],
   "source": [
    "mask_gm = MapNode(ApplyMask(output_type='NIFTI'),\n",
    "                    name=\"mask_gm\", \n",
    "                    iterfield=[\"in_file\"])"
   ]
  },
  {
   "cell_type": "code",
   "execution_count": null,
   "metadata": {},
   "outputs": [],
   "source": [
    "preprocessing.connect([(susan, mask_gm,[('outputnode.smoothed_files','in_file')]),\n",
    "                       (resample, mask_gm,[('out_file','mask_file')])])"
   ]
  },
  {
   "cell_type": "markdown",
   "metadata": {},
   "source": [
    "This Node removes linear trends in the data using the TSNR function"
   ]
  },
  {
   "cell_type": "code",
   "execution_count": null,
   "metadata": {},
   "outputs": [],
   "source": [
    "detrend = Node(TSNR(regress_poly=1), \n",
    "               name=\"detrend\")"
   ]
  },
  {
   "cell_type": "markdown",
   "metadata": {},
   "source": [
    "Applying the detrending to the grey matter masked files:"
   ]
  },
  {
   "cell_type": "code",
   "execution_count": null,
   "metadata": {},
   "outputs": [],
   "source": [
    "preprocessing.connect([(mask_gm, detrend,[('out_file','in_file')])])"
   ]
  },
  {
   "cell_type": "code",
   "execution_count": null,
   "metadata": {},
   "outputs": [
    {
     "name": "stdout",
     "output_type": "stream",
     "text": [
      "190315-12:22:16,258 nipype.workflow INFO:\n",
      "\t Workflow work_preprocessing settings: ['check', 'execution', 'logging', 'monitoring']\n",
      "190315-12:22:16,519 nipype.workflow INFO:\n",
      "\t Running serially.\n",
      "190315-12:22:16,522 nipype.workflow INFO:\n",
      "\t [Node] Setting-up \"work_preprocessing.selectfiles\" in \"/home/neuro/fps/fps_bids/derivatives/work_preprocessing/_subject_id_02/selectfiles\".\n",
      "190315-12:22:16,563 nipype.workflow INFO:\n",
      "\t [Node] Running \"selectfiles\" (\"nipype.interfaces.io.SelectFiles\")\n",
      "190315-12:22:16,649 nipype.workflow INFO:\n",
      "\t [Node] Finished \"work_preprocessing.selectfiles\".\n",
      "190315-12:22:16,651 nipype.workflow INFO:\n",
      "\t [Node] Setting-up \"work_preprocessing.convert_ribbon_rh\" in \"/home/neuro/fps/fps_bids/derivatives/work_preprocessing/_subject_id_02/convert_ribbon_rh\".\n",
      "190315-12:22:16,697 nipype.workflow INFO:\n",
      "\t [Node] Running \"convert_ribbon_rh\" (\"nipype.interfaces.utility.wrappers.Function\")\n"
     ]
    },
    {
     "name": "stderr",
     "output_type": "stream",
     "text": [
      "<string>:7: DeprecationWarning: get_affine method is deprecated.\n",
      "Please use the ``img.affine`` property instead.\n",
      "\n",
      "* deprecated from version: 2.1\n",
      "* Will raise <class 'nibabel.deprecator.ExpiredDeprecationError'> as of version: 4.0\n"
     ]
    },
    {
     "name": "stdout",
     "output_type": "stream",
     "text": [
      "190315-12:22:17,550 nipype.workflow INFO:\n",
      "\t [Node] Finished \"work_preprocessing.convert_ribbon_rh\".\n",
      "190315-12:22:17,553 nipype.workflow INFO:\n",
      "\t [Node] Setting-up \"work_preprocessing.convert_ribbon_lh\" in \"/home/neuro/fps/fps_bids/derivatives/work_preprocessing/_subject_id_02/convert_ribbon_lh\".\n",
      "190315-12:22:17,605 nipype.workflow INFO:\n",
      "\t [Node] Running \"convert_ribbon_lh\" (\"nipype.interfaces.utility.wrappers.Function\")\n"
     ]
    },
    {
     "name": "stderr",
     "output_type": "stream",
     "text": [
      "<string>:7: DeprecationWarning: get_affine method is deprecated.\n",
      "Please use the ``img.affine`` property instead.\n",
      "\n",
      "* deprecated from version: 2.1\n",
      "* Will raise <class 'nibabel.deprecator.ExpiredDeprecationError'> as of version: 4.0\n"
     ]
    },
    {
     "name": "stdout",
     "output_type": "stream",
     "text": [
      "190315-12:22:18,576 nipype.workflow INFO:\n",
      "\t [Node] Finished \"work_preprocessing.convert_ribbon_lh\".\n",
      "190315-12:22:18,580 nipype.workflow INFO:\n",
      "\t [Node] Setting-up \"work_preprocessing.concat_ribbon\" in \"/home/neuro/fps/fps_bids/derivatives/work_preprocessing/_subject_id_02/concat_ribbon\".\n",
      "190315-12:22:18,661 nipype.workflow INFO:\n",
      "\t [Node] Setting-up \"_concat_ribbon0\" in \"/home/neuro/fps/fps_bids/derivatives/work_preprocessing/_subject_id_02/concat_ribbon/mapflow/_concat_ribbon0\".\n",
      "190315-12:22:18,727 nipype.workflow INFO:\n",
      "\t [Node] Running \"_concat_ribbon0\" (\"nipype.interfaces.fsl.utils.ImageMaths\"), a CommandLine Interface with command:\n",
      "fslmaths /home/neuro/fps/fps_bids/derivatives/work_preprocessing/_subject_id_02/convert_ribbon_lh/lh.ribbon.nii -add /home/neuro/fps/fps_bids/derivatives/work_preprocessing/_subject_id_02/convert_ribbon_rh/rh.ribbon.nii /home/neuro/fps/fps_bids/derivatives/work_preprocessing/_subject_id_02/concat_ribbon/mapflow/_concat_ribbon0/lh.ribbon_maths.nii.gz\n",
      "190315-12:22:20,618 nipype.workflow INFO:\n",
      "\t [Node] Finished \"_concat_ribbon0\".\n",
      "190315-12:22:20,652 nipype.workflow INFO:\n",
      "\t [Node] Finished \"work_preprocessing.concat_ribbon\".\n",
      "190315-12:22:20,654 nipype.workflow INFO:\n",
      "\t [Node] Setting-up \"work_preprocessing.resample\" in \"/home/neuro/fps/fps_bids/derivatives/work_preprocessing/_subject_id_02/resample\".\n",
      "190315-12:22:20,721 nipype.workflow INFO:\n",
      "\t [Node] Running \"resample\" (\"nipype.interfaces.fsl.preprocess.FLIRT\"), a CommandLine Interface with command:\n",
      "flirt -in /home/neuro/fps/fps_bids/derivatives/work_preprocessing/_subject_id_02/concat_ribbon/mapflow/_concat_ribbon0/lh.ribbon_maths.nii.gz -ref /home/neuro/fps/fps_bids/derivatives/work_preprocessing/_subject_id_02/concat_ribbon/mapflow/_concat_ribbon0/lh.ribbon_maths.nii.gz -out lh.ribbon_maths_flirt.nii.gz -omat lh.ribbon_maths_flirt.mat -applyisoxfm 3.000000\n",
      "190315-12:22:28,806 nipype.workflow INFO:\n",
      "\t [Node] Finished \"work_preprocessing.resample\".\n",
      "190315-12:22:28,808 nipype.workflow INFO:\n",
      "\t [Node] Setting-up \"work_preprocessing.compute_mean_wh\" in \"/home/neuro/fps/fps_bids/derivatives/work_preprocessing/_subject_id_02/compute_mean_wh\".\n",
      "190315-12:22:28,868 nipype.workflow INFO:\n",
      "\t [Node] Running \"compute_mean_wh\" (\"nipype.interfaces.utility.wrappers.Function\")\n",
      "190315-12:22:29,79 nipype.workflow INFO:\n",
      "\t [Node] Finished \"work_preprocessing.compute_mean_wh\".\n",
      "190315-12:22:29,82 nipype.workflow INFO:\n",
      "\t [Node] Setting-up \"work_preprocessing.convert_mgh\" in \"/home/neuro/fps/fps_bids/derivatives/work_preprocessing/_subject_id_02/convert_mgh\".\n",
      "190315-12:22:29,120 nipype.workflow INFO:\n",
      "\t [Node] Running \"convert_mgh\" (\"nipype.interfaces.utility.wrappers.Function\")\n"
     ]
    },
    {
     "name": "stderr",
     "output_type": "stream",
     "text": [
      "<string>:7: DeprecationWarning: get_affine method is deprecated.\n",
      "Please use the ``img.affine`` property instead.\n",
      "\n",
      "* deprecated from version: 2.1\n",
      "* Will raise <class 'nibabel.deprecator.ExpiredDeprecationError'> as of version: 4.0\n"
     ]
    },
    {
     "name": "stdout",
     "output_type": "stream",
     "text": [
      "190315-12:22:30,255 nipype.workflow INFO:\n",
      "\t [Node] Finished \"work_preprocessing.convert_mgh\".\n",
      "190315-12:22:30,257 nipype.workflow INFO:\n",
      "\t [Node] Setting-up \"work_preprocessing.coreg_wh\" in \"/home/neuro/fps/fps_bids/derivatives/work_preprocessing/_subject_id_02/coreg_wh\".\n",
      "190315-12:22:30,328 nipype.workflow INFO:\n",
      "\t [Node] Running \"coreg_wh\" (\"nipype.interfaces.fsl.preprocess.FLIRT\"), a CommandLine Interface with command:\n",
      "flirt -in /home/neuro/fps/fps_bids/derivatives/work_preprocessing/_subject_id_02/compute_mean_wh/sub-02_task-fps_acq-wh_bold_mean.nii -ref /home/neuro/fps/fps_bids/derivatives/work_preprocessing/_subject_id_02/convert_mgh/brain.nii -out sub-02_task-fps_acq-wh_bold_mean_flirt.nii -omat sub-02_task-fps_acq-wh_bold_mean_flirt.mat -dof 6\n",
      "190315-12:22:39,766 nipype.workflow INFO:\n",
      "\t [Node] Finished \"work_preprocessing.coreg_wh\".\n",
      "190315-12:22:39,767 nipype.workflow INFO:\n",
      "\t [Node] Setting-up \"work_preprocessing.mo_correct\" in \"/home/neuro/fps/fps_bids/derivatives/work_preprocessing/_subject_id_02/mo_correct\".\n",
      "190315-12:22:39,820 nipype.workflow INFO:\n",
      "\t [Node] Running \"mo_correct\" (\"nipype.interfaces.fsl.preprocess.MCFLIRT\"), a CommandLine Interface with command:\n",
      "mcflirt -in /home/neuro/fps/fps_bids/sub-02/func/sub-02_task-fps_bold.nii.gz -meanvol -out /home/neuro/fps/fps_bids/derivatives/work_preprocessing/_subject_id_02/mo_correct/sub-02_task-fps_bold_mcf.nii.gz -plots\n",
      "190315-12:23:44,542 nipype.workflow INFO:\n",
      "\t [Node] Finished \"work_preprocessing.mo_correct\".\n",
      "190315-12:23:44,547 nipype.workflow INFO:\n",
      "\t [Node] Setting-up \"work_preprocessing.coreg_slab\" in \"/home/neuro/fps/fps_bids/derivatives/work_preprocessing/_subject_id_02/coreg_slab\".\n",
      "190315-12:23:44,617 nipype.workflow INFO:\n",
      "\t [Node] Running \"coreg_slab\" (\"nipype.interfaces.fsl.preprocess.FLIRT\"), a CommandLine Interface with command:\n",
      "flirt -in /home/neuro/fps/fps_bids/derivatives/work_preprocessing/_subject_id_02/mo_correct/sub-02_task-fps_bold_mcf.nii.gz_mean_reg.nii.gz -ref /home/neuro/fps/fps_bids/derivatives/work_preprocessing/_subject_id_02/compute_mean_wh/sub-02_task-fps_acq-wh_bold_mean.nii -out sub-02_task-fps_bold_mcf.nii.gz_mean_reg_flirt.nii -omat sub-02_task-fps_bold_mcf.nii.gz_mean_reg_flirt.mat -dof 6\n",
      "190315-12:23:45,899 nipype.workflow INFO:\n",
      "\t [Node] Finished \"work_preprocessing.coreg_slab\".\n",
      "190315-12:23:45,901 nipype.workflow INFO:\n",
      "\t [Node] Setting-up \"work_preprocessing.merge_trans\" in \"/home/neuro/fps/fps_bids/derivatives/work_preprocessing/_subject_id_02/merge_trans\".\n",
      "190315-12:23:45,941 nipype.workflow INFO:\n",
      "\t [Node] Running \"merge_trans\" (\"nipype.interfaces.fsl.utils.ConvertXFM\"), a CommandLine Interface with command:\n",
      "convert_xfm -omat /home/neuro/fps/fps_bids/derivatives/work_preprocessing/_subject_id_02/merge_trans/sub-02_task-fps_bold_mcf.nii.mat -concat /home/neuro/fps/fps_bids/derivatives/work_preprocessing/_subject_id_02/coreg_wh/sub-02_task-fps_acq-wh_bold_mean_flirt.mat /home/neuro/fps/fps_bids/derivatives/work_preprocessing/_subject_id_02/coreg_slab/sub-02_task-fps_bold_mcf.nii.gz_mean_reg_flirt.mat\n",
      "190315-12:23:46,101 nipype.workflow INFO:\n",
      "\t [Node] Finished \"work_preprocessing.merge_trans\".\n",
      "190315-12:23:46,104 nipype.workflow INFO:\n",
      "\t [Node] Setting-up \"work_preprocessing.applywarp\" in \"/home/neuro/fps/fps_bids/derivatives/work_preprocessing/_subject_id_02/applywarp\".\n",
      "190315-12:23:46,164 nipype.workflow INFO:\n",
      "\t [Node] Running \"applywarp\" (\"nipype.interfaces.fsl.preprocess.FLIRT\"), a CommandLine Interface with command:\n",
      "flirt -in /home/neuro/fps/fps_bids/derivatives/work_preprocessing/_subject_id_02/mo_correct/sub-02_task-fps_bold_mcf.nii.gz -ref /home/neuro/fps/fps_bids/derivatives/work_preprocessing/_subject_id_02/convert_mgh/brain.nii -out sub-02_task-fps_bold_mcf_flirt.nii -omat sub-02_task-fps_bold_mcf_flirt.mat -applyisoxfm 3.000000 -init /home/neuro/fps/fps_bids/derivatives/work_preprocessing/_subject_id_02/merge_trans/sub-02_task-fps_bold_mcf.nii.mat -interp spline\n",
      "190315-12:24:21,90 nipype.workflow INFO:\n",
      "\t [Node] Finished \"work_preprocessing.applywarp\".\n",
      "190315-12:24:21,92 nipype.workflow INFO:\n",
      "\t [Node] Setting-up \"work_preprocessing.susan.mask\" in \"/home/neuro/fps/fps_bids/derivatives/work_preprocessing/susan/_subject_id_02/mask\".\n",
      "190315-12:24:21,169 nipype.workflow INFO:\n",
      "\t [Node] Setting-up \"_mask0\" in \"/home/neuro/fps/fps_bids/derivatives/work_preprocessing/susan/_subject_id_02/mask/mapflow/_mask0\".\n",
      "190315-12:24:21,227 nipype.workflow INFO:\n",
      "\t [Node] Running \"_mask0\" (\"nipype.interfaces.fsl.utils.ImageMaths\"), a CommandLine Interface with command:\n",
      "fslmaths /home/neuro/fps/fps_bids/derivatives/work_preprocessing/_subject_id_02/applywarp/sub-02_task-fps_bold_mcf_flirt.nii -mas /home/neuro/fps/fps_bids/derivatives/work_preprocessing/_subject_id_02/resample/lh.ribbon_maths_flirt.nii.gz /home/neuro/fps/fps_bids/derivatives/work_preprocessing/susan/_subject_id_02/mask/mapflow/_mask0/sub-02_task-fps_bold_mcf_flirt_mask.nii.gz\n",
      "190315-12:24:36,471 nipype.workflow INFO:\n",
      "\t [Node] Finished \"_mask0\".\n",
      "190315-12:24:36,504 nipype.workflow INFO:\n",
      "\t [Node] Finished \"work_preprocessing.susan.mask\".\n",
      "190315-12:24:36,506 nipype.workflow INFO:\n",
      "\t [Node] Setting-up \"work_preprocessing.susan.meanfunc2\" in \"/home/neuro/fps/fps_bids/derivatives/work_preprocessing/susan/_subject_id_02/meanfunc2\".\n",
      "190315-12:24:36,587 nipype.workflow INFO:\n",
      "\t [Node] Setting-up \"_meanfunc20\" in \"/home/neuro/fps/fps_bids/derivatives/work_preprocessing/susan/_subject_id_02/meanfunc2/mapflow/_meanfunc20\".\n",
      "190315-12:24:36,661 nipype.workflow INFO:\n",
      "\t [Node] Running \"_meanfunc20\" (\"nipype.interfaces.fsl.utils.ImageMaths\"), a CommandLine Interface with command:\n",
      "fslmaths /home/neuro/fps/fps_bids/derivatives/work_preprocessing/susan/_subject_id_02/mask/mapflow/_mask0/sub-02_task-fps_bold_mcf_flirt_mask.nii.gz -Tmean /home/neuro/fps/fps_bids/derivatives/work_preprocessing/susan/_subject_id_02/meanfunc2/mapflow/_meanfunc20/sub-02_task-fps_bold_mcf_flirt_mask_mean.nii.gz\n",
      "190315-12:24:42,749 nipype.workflow INFO:\n",
      "\t [Node] Finished \"_meanfunc20\".\n",
      "190315-12:24:42,827 nipype.workflow INFO:\n",
      "\t [Node] Finished \"work_preprocessing.susan.meanfunc2\".\n",
      "190315-12:24:42,835 nipype.workflow INFO:\n",
      "\t [Node] Setting-up \"work_preprocessing.susan.median\" in \"/home/neuro/fps/fps_bids/derivatives/work_preprocessing/susan/_subject_id_02/median\".\n",
      "190315-12:24:42,957 nipype.workflow INFO:\n",
      "\t [Node] Setting-up \"_median0\" in \"/home/neuro/fps/fps_bids/derivatives/work_preprocessing/susan/_subject_id_02/median/mapflow/_median0\".\n",
      "190315-12:24:43,60 nipype.workflow INFO:\n",
      "\t [Node] Running \"_median0\" (\"nipype.interfaces.fsl.utils.ImageStats\"), a CommandLine Interface with command:\n",
      "fslstats /home/neuro/fps/fps_bids/derivatives/work_preprocessing/_subject_id_02/applywarp/sub-02_task-fps_bold_mcf_flirt.nii -k /home/neuro/fps/fps_bids/derivatives/work_preprocessing/_subject_id_02/resample/lh.ribbon_maths_flirt.nii.gz -p 50 \n",
      "190315-12:24:52,506 nipype.interface INFO:\n",
      "\t stdout 2019-03-15T12:24:52.505603:407.000000 \n",
      "190315-12:24:53,155 nipype.workflow INFO:\n",
      "\t [Node] Finished \"_median0\".\n",
      "190315-12:24:53,201 nipype.workflow INFO:\n",
      "\t [Node] Finished \"work_preprocessing.susan.median\".\n",
      "190315-12:24:53,214 nipype.workflow INFO:\n",
      "\t [Node] Setting-up \"work_preprocessing.susan.merge\" in \"/home/neuro/fps/fps_bids/derivatives/work_preprocessing/susan/_subject_id_02/merge\".\n",
      "190315-12:24:53,312 nipype.workflow INFO:\n",
      "\t [Node] Running \"merge\" (\"nipype.interfaces.utility.base.Merge\")\n",
      "190315-12:24:53,466 nipype.workflow INFO:\n",
      "\t [Node] Finished \"work_preprocessing.susan.merge\".\n",
      "190315-12:24:53,468 nipype.workflow INFO:\n",
      "\t [Node] Setting-up \"work_preprocessing.susan.multi_inputs\" in \"/home/neuro/fps/fps_bids/derivatives/work_preprocessing/susan/_subject_id_02/multi_inputs\".\n",
      "190315-12:24:53,566 nipype.workflow INFO:\n",
      "\t [Node] Running \"multi_inputs\" (\"nipype.interfaces.utility.wrappers.Function\")\n",
      "190315-12:24:53,656 nipype.workflow INFO:\n",
      "\t [Node] Finished \"work_preprocessing.susan.multi_inputs\".\n",
      "190315-12:24:53,660 nipype.workflow INFO:\n",
      "\t [Node] Setting-up \"work_preprocessing.susan.smooth\" in \"/home/neuro/fps/fps_bids/derivatives/work_preprocessing/susan/_subject_id_02/smooth\".\n",
      "190315-12:24:53,825 nipype.workflow INFO:\n",
      "\t [Node] Setting-up \"_smooth0\" in \"/home/neuro/fps/fps_bids/derivatives/work_preprocessing/susan/_subject_id_02/smooth/mapflow/_smooth0\".\n"
     ]
    },
    {
     "name": "stdout",
     "output_type": "stream",
     "text": [
      "190315-12:24:53,893 nipype.workflow INFO:\n",
      "\t [Node] Running \"_smooth0\" (\"nipype.interfaces.fsl.preprocess.SUSAN\"), a CommandLine Interface with command:\n",
      "susan /home/neuro/fps/fps_bids/derivatives/work_preprocessing/_subject_id_02/applywarp/sub-02_task-fps_bold_mcf_flirt.nii 305.2500000000 1.2739827004 3 1 1 /home/neuro/fps/fps_bids/derivatives/work_preprocessing/susan/_subject_id_02/meanfunc2/mapflow/_meanfunc20/sub-02_task-fps_bold_mcf_flirt_mask_mean.nii.gz 305.2500000000 /home/neuro/fps/fps_bids/derivatives/work_preprocessing/susan/_subject_id_02/smooth/mapflow/_smooth0/sub-02_task-fps_bold_mcf_flirt_smooth.nii.gz\n",
      "190315-12:28:37,738 nipype.workflow INFO:\n",
      "\t [Node] Finished \"_smooth0\".\n",
      "190315-12:28:37,768 nipype.workflow INFO:\n",
      "\t [Node] Finished \"work_preprocessing.susan.smooth\".\n",
      "190315-12:28:37,770 nipype.workflow INFO:\n",
      "\t [Node] Setting-up \"work_preprocessing.mask_gm\" in \"/home/neuro/fps/fps_bids/derivatives/work_preprocessing/_subject_id_02/mask_gm\".\n",
      "190315-12:28:37,834 nipype.workflow INFO:\n",
      "\t [Node] Setting-up \"_mask_gm0\" in \"/home/neuro/fps/fps_bids/derivatives/work_preprocessing/_subject_id_02/mask_gm/mapflow/_mask_gm0\".\n",
      "190315-12:28:37,878 nipype.workflow INFO:\n",
      "\t [Node] Running \"_mask_gm0\" (\"nipype.interfaces.fsl.maths.ApplyMask\"), a CommandLine Interface with command:\n",
      "fslmaths /home/neuro/fps/fps_bids/derivatives/work_preprocessing/susan/_subject_id_02/smooth/mapflow/_smooth0/sub-02_task-fps_bold_mcf_flirt_smooth.nii.gz -mas /home/neuro/fps/fps_bids/derivatives/work_preprocessing/_subject_id_02/resample/lh.ribbon_maths_flirt.nii.gz /home/neuro/fps/fps_bids/derivatives/work_preprocessing/_subject_id_02/mask_gm/mapflow/_mask_gm0/sub-02_task-fps_bold_mcf_flirt_smooth_masked.nii\n",
      "190315-12:28:48,541 nipype.workflow INFO:\n",
      "\t [Node] Finished \"_mask_gm0\".\n",
      "190315-12:28:48,581 nipype.workflow INFO:\n",
      "\t [Node] Finished \"work_preprocessing.mask_gm\".\n",
      "190315-12:28:48,584 nipype.workflow INFO:\n",
      "\t [Node] Setting-up \"work_preprocessing.detrend\" in \"/home/neuro/fps/fps_bids/derivatives/work_preprocessing/_subject_id_02/detrend\".\n",
      "190315-12:28:48,621 nipype.workflow INFO:\n",
      "\t [Node] Running \"detrend\" (\"nipype.algorithms.confounds.TSNR\")\n"
     ]
    }
   ],
   "source": [
    "preprocessing.run()"
   ]
  },
  {
   "cell_type": "code",
   "execution_count": null,
   "metadata": {},
   "outputs": [],
   "source": []
  }
 ],
 "metadata": {
  "kernelspec": {
   "display_name": "Python 3",
   "language": "python",
   "name": "python3"
  },
  "language_info": {
   "codemirror_mode": {
    "name": "ipython",
    "version": 3
   },
   "file_extension": ".py",
   "mimetype": "text/x-python",
   "name": "python",
   "nbconvert_exporter": "python",
   "pygments_lexer": "ipython3",
   "version": "3.6.7"
  }
 },
 "nbformat": 4,
 "nbformat_minor": 2
}
